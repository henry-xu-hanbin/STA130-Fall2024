{
 "cells": [
  {
   "cell_type": "code",
   "execution_count": 1,
   "id": "142b805f",
   "metadata": {},
   "outputs": [
    {
     "name": "stdout",
     "output_type": "stream",
     "text": [
      "   #                   Name Type 1  Type 2  HP  Attack  Defense  Sp. Atk  \\\n",
      "0  1              Bulbasaur  Grass  Poison  45      49       49       65   \n",
      "1  2                Ivysaur  Grass  Poison  60      62       63       80   \n",
      "2  3               Venusaur  Grass  Poison  80      82       83      100   \n",
      "3  3  VenusaurMega Venusaur  Grass  Poison  80     100      123      122   \n",
      "4  4             Charmander   Fire     NaN  39      52       43       60   \n",
      "\n",
      "   Sp. Def  Speed  Generation  Legendary  \n",
      "0       65     45           1      False  \n",
      "1       80     60           1      False  \n",
      "2      100     80           1      False  \n",
      "3      120     80           1      False  \n",
      "4       50     65           1      False  \n",
      "\n",
      "Missing data counts:\n",
      " #               0\n",
      "Name            0\n",
      "Type 1          0\n",
      "Type 2        386\n",
      "HP              0\n",
      "Attack          0\n",
      "Defense         0\n",
      "Sp. Atk         0\n",
      "Sp. Def         0\n",
      "Speed           0\n",
      "Generation      0\n",
      "Legendary       0\n",
      "dtype: int64\n"
     ]
    }
   ],
   "source": [
    "import pandas as pd\n",
    "\n",
    "# Load the dataset from the URL\n",
    "url = 'https://raw.githubusercontent.com/KeithGalli/pandas/master/pokemon_data.csv'\n",
    "pokemon_data = pd.read_csv(url)\n",
    "\n",
    "# Display the first few rows of the dataset\n",
    "print(pokemon_data.head())\n",
    "\n",
    "# Check for missing values in each column\n",
    "missing_data_counts = pokemon_data.isnull().sum()\n",
    "\n",
    "# Display the count of missing values in each column\n",
    "print(\"\\nMissing data counts:\\n\", missing_data_counts)"
   ]
  },
  {
   "cell_type": "markdown",
   "id": "6c884515",
   "metadata": {},
   "source": [
    "Assignment Summary:\n",
    "For this task, I was asked to find a dataset that meets the following criteria:\n",
    "\n",
    "Amusing, funny, or otherwise interesting\n",
    "Contains missing values\n",
    "Available online as a CSV file via a URL\n",
    "I selected the \"Pokemon with stats\" dataset, which includes various information about Pokemon (e.g., type, HP, attack, defense, etc.). This dataset has some missing values, particularly in specific columns. The dataset was sourced from the following URL: Pokemon dataset CSV.\n",
    "\n",
    "Additionally, I provided Python code to load the dataset using pandas and calculate the count of missing values in each column. The code snippet demonstrates how to:\n",
    "\n",
    "Import and load the dataset using pandas.\n",
    "Display the first few rows for initial inspection.\n",
    "Check for missing values across the dataset and output the count of missing values for each column.\n",
    "Here is the Python code provided:\n",
    "\n",
    "python\n",
    "Copy code\n",
    "import pandas as pd\n",
    "\n",
    "# Load the dataset from the URL\n",
    "url = 'https://raw.githubusercontent.com/KeithGalli/pandas/master/pokemon_data.csv'\n",
    "pokemon_data = pd.read_csv(url)\n",
    "\n",
    "# Display the first few rows of the dataset\n",
    "print(pokemon_data.head())\n",
    "\n",
    "# Check for missing values in each column\n",
    "missing_data_counts = pokemon_data.isnull().sum()\n",
    "\n",
    "# Display the count of missing values in each column\n",
    "print(\"\\nMissing data counts:\\n\", missing_data_counts)\n",
    "This submission satisfies the requirements for the assignment, showcasing an interesting dataset with missing values and demonstrating how to handle it in Python."
   ]
  }
 ],
 "metadata": {
  "kernelspec": {
   "display_name": "Python 3 (ipykernel)",
   "language": "python",
   "name": "python3"
  },
  "language_info": {
   "codemirror_mode": {
    "name": "ipython",
    "version": 3
   },
   "file_extension": ".py",
   "mimetype": "text/x-python",
   "name": "python",
   "nbconvert_exporter": "python",
   "pygments_lexer": "ipython3",
   "version": "3.11.6"
  }
 },
 "nbformat": 4,
 "nbformat_minor": 5
}
