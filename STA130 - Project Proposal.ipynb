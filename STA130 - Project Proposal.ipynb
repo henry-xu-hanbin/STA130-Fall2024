{
 "cells": [
  {
   "cell_type": "markdown",
   "id": "0c1f8a2e",
   "metadata": {},
   "source": [
    "## Proposal 1:\n",
    "\n",
    "### Research Question: Does the usage of social media impact people’s mental health? \n",
    "\n",
    "__Variables:__\n",
    "\n",
    "Independent Variable: CONNECTION_social_media_time_per_day. This variable measures one’s time spent on social media in a day as ordinal, categorical data. \n",
    "\n",
    "Dependent Variable: WELLNESS_self_rated_mental_health. This variable contains ordinal, categorical data ranking one’s mental health from poor to excellent. \n",
    "\n",
    "__Visualizations:__ Bar plot. A bar plot can effectively display the distribution of people’s mental health level and time spent on social media, as the data is ordinal. A stacked bar plot also can be used to predict the relationship between the two variables, such as by sectioning each bar in the distribution of social media time with people’s answer of their mental health level. \n",
    "\n",
    "__Analysis:__ I will compute for Spearman's rank correlation coefficient in this analysis to assess the strength and direction of the relationship between the time spent on social media and self-rated mental health. I will also compute for a p-value to check the hypothesis. \n",
    "\n",
    "Assumption: Both variables can be ranked; the relationship is monotonic; each data is independent; chosen α -significance level of 0.05 \n",
    "\n",
    "__Hypothesis:__ \n",
    "\n",
    "Null Hypothesis: There is no association between social media usage and self-rated mental health, which the rank correlation coefficient is equal to zero (ρ = 0). \n",
    "\n",
    "Alternative Hypothesis: There is an association between social media usage and self-rated mental health, which the rank correlation coefficient is not equal to zero (ρ ≠ 0). \n",
    "\n",
    "__Expected Results:__ I hypothesize that we will receive a ρ < 0 and a p-value < 0.05, which suggests that we reject the null hypothesis, and there is a negative relationship between the two variables. In context of the question, the more time used on social media, the lower self-rated mental health. "
   ]
  },
  {
   "cell_type": "markdown",
   "id": "da718eb8",
   "metadata": {},
   "source": [
    "## Proposal 2:\n",
    "\n",
    "### Research Question: Does the amount of people’s close friends relate to their life satisfaction? \n",
    "\n",
    "__Variable:__ \n",
    "\n",
    "Independent Variable: CONNECTION_social_num_close_friends. This variable is discrete, numeric data that shows how many close friends the individual has. \n",
    "\n",
    "Dependent Variable: WELLNESS_life_satisfaction. This variable is discrete, numeric data that tells the individual’s overall satisfaction of their lives, on the scale from 1 to 10. \n",
    "\n",
    "__Visualizations:__ Bar Plot. A bar plot will visualize the frequency distribution of the number of close friends and the life satisfaction level across respondents. Moreover, a scatter plot may illustrate the relationship between the number of close friends and life satisfaction, allowing us to assess any positive or negative correlation. \n",
    "\n",
    "__Analysis:__ Linear regression will be used to examine the relationship between the number of close friends and life satisfaction. This method will allow us to quantify how life satisfaction changes with the number of close friends and assess the strength of this relationship. After that, I will compute the t-statistic and a p-value to make a decision on our hypothesis. \n",
    "\n",
    "Assumption: The variables have a linear relationship; the data are independent; assumptions that are made in the simple linear regression model; chosen α -significance level of 0.05. \n",
    "\n",
    "__Hypothesis:__ \n",
    "\n",
    "Null Hypothesis: There is no significant relationship between the number of close friends and life satisfaction; the regression slope is zero ($\\beta_1$ = 0). \n",
    "\n",
    "Alternative Hypothesis: The null hypothesis is false ($\\beta_1$ ≠ 0).  \n",
    "\n",
    "__Expected Results:__ I hypothesize that we will receive a $\\beta_1$ > 0 and p-value > 0.05, showing that there exists a positive relationship between the number of close friends and life satisfaction. Specifically, as the number of close friends increases, life satisfaction is expected to increase. "
   ]
  },
  {
   "cell_type": "markdown",
   "id": "625ad64e",
   "metadata": {},
   "source": [
    "## Proposal 3: \n",
    "\n",
    "### Research Question: Does university education make individuals more financially successful? \n",
    "\n",
    "__Variables:__\n",
    "\n",
    "Independent Variable: university. This variable is a binary data with Yes and No as the as the answer to whether the respondent has attended university education. \n",
    "\n",
    "Dependent Variable: FINANCES_cfpb_financial_wellbeing_scale_score. This variable is ordinal data that measures the respondent’s personal financial condition, varying from 0 to 20. \n",
    "\n",
    "__Visualizations:__ A bar plot can show the number of people that do or do not have university degrees and the distribution of the financial wellbeing score. Additionally, if we treat FINANCES_cfpb_financial_wellbeing_scale_score as numeric data, two box plots can be used to compare the shape of people’s financial scores, grouped by whether they do or do not have university degrees. \n",
    "\n",
    "__Analysis:__ I will separate people’s financial scores into two groups based on whether they do or do not have university education and perform bootstrapping with each group’s financial score to generate sample means. Then I will find the difference between the sample means and collect a distribution of the sample means to make inference through a confidence interval. \n",
    "\n",
    "Assumption: The data are independent; chosen a 95% confidence interval. \n",
    "\n",
    "__Hypothesis:__ \n",
    "\n",
    "Null Hypothesis: University education does not affect financial well-being, meaning there is no difference in the mean financial well-being scores between those who attended university and those who did not. Statistically, this means 0 should be in our confidence interval of bootstrapped mean difference distribution. \n",
    "\n",
    "Alternative Hypothesis: University education does affect financial well-being, and there is a difference in the mean financial well-being scores between groups. This should be reflected in our analysis as 0 is not in the confidence interval of bootstrapped sample means. \n",
    "\n",
    "__Expected Results:__ I hypothesize that individuals with university education will have higher mean financial well-being scores than those without, which the confidence interval should be located on the right side of 0. If the confidence interval for the difference in means does not include zero, it would suggest a relationship between university education and financial well-being and would lead us to reject the null hypothesis.  "
   ]
  },
  {
   "cell_type": "markdown",
   "id": "e86e7b5b",
   "metadata": {},
   "source": [
    "Preferred Project Group Team: Kenshin Newk-Fon Hey Tow, Henry Xu (Me)"
   ]
  },
  {
   "cell_type": "code",
   "execution_count": null,
   "id": "b1633a3b",
   "metadata": {},
   "outputs": [],
   "source": []
  }
 ],
 "metadata": {
  "kernelspec": {
   "display_name": "Python 3 (ipykernel)",
   "language": "python",
   "name": "python3"
  },
  "language_info": {
   "codemirror_mode": {
    "name": "ipython",
    "version": 3
   },
   "file_extension": ".py",
   "mimetype": "text/x-python",
   "name": "python",
   "nbconvert_exporter": "python",
   "pygments_lexer": "ipython3",
   "version": "3.11.6"
  }
 },
 "nbformat": 4,
 "nbformat_minor": 5
}
